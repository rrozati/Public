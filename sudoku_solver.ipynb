{
  "nbformat": 4,
  "nbformat_minor": 0,
  "metadata": {
    "colab": {
      "name": "Untitled2.ipynb",
      "provenance": [],
      "authorship_tag": "ABX9TyPa7I/S7b0AswPyCfzzvx2L",
      "include_colab_link": true
    },
    "kernelspec": {
      "name": "python3",
      "display_name": "Python 3"
    }
  },
  "cells": [
    {
      "cell_type": "markdown",
      "metadata": {
        "id": "view-in-github",
        "colab_type": "text"
      },
      "source": [
        "<a href=\"https://colab.research.google.com/github/rrozati/Public/blob/master/sudoku_solver.ipynb\" target=\"_parent\"><img src=\"https://colab.research.google.com/assets/colab-badge.svg\" alt=\"Open In Colab\"/></a>"
      ]
    },
    {
      "cell_type": "code",
      "metadata": {
        "id": "AuSGi-gB5Y7H",
        "colab_type": "code",
        "colab": {}
      },
      "source": [
        "#### python sudoky solver\n",
        "import numpy as np\n",
        "import sys"
      ],
      "execution_count": 7,
      "outputs": []
    },
    {
      "cell_type": "code",
      "metadata": {
        "id": "wf2HWRFQ7JG1",
        "colab_type": "code",
        "colab": {
          "base_uri": "https://localhost:8080/",
          "height": 170
        },
        "outputId": "0c0a0856-43aa-4a18-db7f-8d164bc0dc5c"
      },
      "source": [
        "grid1 = [[5,3,0,0,7,0,0,0,0],\n",
        "    [6,0,0,1,9,5,0,0,0],\n",
        "\t\t[0,9,8,0,0,0,0,6,0],\n",
        "\t\t[8,0,0,0,6,0,0,0,3],\n",
        "\t\t[4,0,0,8,0,3,0,0,1],\n",
        "\t\t[7,0,0,0,2,0,0,0,6],\n",
        "\t\t[0,6,0,0,0,0,2,8,0],\n",
        "\t\t[0,0,0,4,1,9,0,0,5],\n",
        "\t\t[0,0,0,0,8,0,0,7,9]]\n",
        "\t\t\n",
        "grid2 = [[0,0,0,0,0,0,0,0,0],\n",
        "        [0,0,0,0,0,0,0,0,0],\n",
        "\t\t    [0,0,0,0,0,0,0,0,0],\n",
        "\t    \t[3,8,4,0,0,0,0,0,0],\n",
        "\t\t    [0,0,0,0,0,0,0,0,0],\n",
        "\t\t    [0,0,0,0,0,0,0,0,0],\n",
        "\t\t    [0,0,0,0,0,0,0,0,0],\n",
        "\t\t    [0,0,0,0,0,0,0,0,0],\n",
        "\t\t    [0,0,0,0,0,0,0,0,2]]\n",
        "\n",
        "grid = [[0,0,0,9,0,1,5,0,2],\n",
        "        [7,5,0,0,0,0,0,0,0],\n",
        "\t\t    [0,2,0,7,3,0,0,0,4],\n",
        "\t    \t[3,0,0,0,0,0,2,0,0],\n",
        "\t\t    [0,0,6,0,2,0,7,0,0],\n",
        "\t\t    [0,0,2,0,0,0,0,0,9],\n",
        "\t\t    [2,0,0,0,4,6,0,5,0],\n",
        "\t\t    [0,0,0,0,0,0,0,6,1],\n",
        "\t\t    [6,0,9,1,0,3,0,0,0]]\n",
        "\n",
        "grid\n"
      ],
      "execution_count": 13,
      "outputs": [
        {
          "output_type": "execute_result",
          "data": {
            "text/plain": [
              "[[0, 0, 0, 9, 0, 1, 5, 0, 2],\n",
              " [7, 5, 0, 0, 0, 0, 0, 0, 0],\n",
              " [0, 2, 0, 7, 3, 0, 0, 0, 4],\n",
              " [3, 0, 0, 0, 0, 0, 2, 0, 0],\n",
              " [0, 0, 6, 0, 2, 0, 7, 0, 0],\n",
              " [0, 0, 2, 0, 0, 0, 0, 0, 9],\n",
              " [2, 0, 0, 0, 4, 6, 0, 5, 0],\n",
              " [0, 0, 0, 0, 0, 0, 0, 6, 1],\n",
              " [6, 0, 9, 1, 0, 3, 0, 0, 0]]"
            ]
          },
          "metadata": {
            "tags": []
          },
          "execution_count": 13
        }
      ]
    },
    {
      "cell_type": "code",
      "metadata": {
        "id": "o7cxB72y8h6U",
        "colab_type": "code",
        "colab": {}
      },
      "source": [
        "def possible( x,y, n):\n",
        "\tglobal grid\n",
        "\tfor i in range(0,9):\n",
        "\t\tif grid[x][i] == n :\n",
        "\t\t\treturn False\n",
        "\tfor i in range(0,9):\n",
        "\t\tif grid[i][y] == n :\n",
        "\t\t\treturn False\n",
        "\tx0 = (x//3)*3\n",
        "\ty0 = (y//3)*3\n",
        "\tfor i in range(0,3):\n",
        "\t\tfor j in range(0,3):\n",
        "\t\t\tif grid[x0+i][y0+j] == n:\n",
        "\t\t\t\treturn False\n",
        "\treturn True\n"
      ],
      "execution_count": 9,
      "outputs": []
    },
    {
      "cell_type": "code",
      "metadata": {
        "id": "tViJ8xNb8rx6",
        "colab_type": "code",
        "colab": {
          "base_uri": "https://localhost:8080/",
          "height": 34
        },
        "outputId": "f9a6b375-847d-44b9-fcff-e1b8a19a6942"
      },
      "source": [
        "possible(4,4,5)"
      ],
      "execution_count": 7,
      "outputs": [
        {
          "output_type": "execute_result",
          "data": {
            "text/plain": [
              "True"
            ]
          },
          "metadata": {
            "tags": []
          },
          "execution_count": 7
        }
      ]
    },
    {
      "cell_type": "code",
      "metadata": {
        "id": "wsVuPvHa-fxa",
        "colab_type": "code",
        "colab": {}
      },
      "source": [
        "def validate():\n",
        "\tglobal grid\n",
        "\ttxy = 0\n",
        "\ttyx = 0\n",
        "\tfor x in range(9):\n",
        "\t\tfor y in range(9):\n",
        "\t\t\ttxy += grid[x][y]\n",
        "\t\t\ttyx += grid[y][x]\n",
        "\t\tif txy != 45 or tyx != 45:\n",
        "\t\t\treturn False\n",
        "\t\ttxy = 0\n",
        "\t\ttyx = 0\n",
        "\tq1 = 0 \n",
        "\tq2 = 0 \n",
        "\tq3 = 0\n",
        "\tfor z in range(0,9,3):\n",
        "\t\tfor x in range(0,3):\n",
        "\t\t\tfor y in range(0,3):\n",
        "\t\t\t\tq1 += grid[x][z+y]\n",
        "\t\t\t\tq2 += grid[3+x][z+y]\n",
        "\t\t\t\tq3 += grid[6+x][z+y]\n",
        "\t\tif q1 + q2 + q3 != 135:\n",
        "\t\t\treturn False\n",
        "\t\tq1 = 0 \n",
        "\t\tq2 = 0 \n",
        "\t\tq3 = 0\n",
        "\treturn True\t\n",
        "\n",
        "def solve():\n",
        "\tglobal grid\n",
        "\tfor x in range(9):\n",
        "\t\tfor y in range(9):\n",
        "\t\t\tif grid[x][y] == 0:\n",
        "\t\t\t\tfor n in range(1,10):\n",
        "\t\t\t\t\tif possible(x,y,n):\n",
        "\t\t\t\t\t\tgrid[x][y] = n\n",
        "\t\t\t\t\t\tsolve()\n",
        "\t\t\t\t\t\tgrid[x][y] = 0;\n",
        "\t\t\t\treturn\t\t\n",
        "\tprint(np.matrix(grid))\n",
        "\tprint(validate() )\n",
        "\tx = input(\"More ?\")\n",
        "\tif x==\"n\":\n",
        "\t\tsys.exit()"
      ],
      "execution_count": 5,
      "outputs": []
    },
    {
      "cell_type": "code",
      "metadata": {
        "id": "AAncy-wrM79e",
        "colab_type": "code",
        "colab": {
          "base_uri": "https://localhost:8080/",
          "height": 204
        },
        "outputId": "ecefba7b-9ada-45f7-b817-4c762295f6f1"
      },
      "source": [
        "solve()\n",
        "\n"
      ],
      "execution_count": 15,
      "outputs": [
        {
          "output_type": "stream",
          "text": [
            "[[4 6 3 9 8 1 5 7 2]\n",
            " [7 5 1 4 6 2 3 9 8]\n",
            " [9 2 8 7 3 5 6 1 4]\n",
            " [3 7 4 5 1 9 2 8 6]\n",
            " [1 9 6 3 2 8 7 4 5]\n",
            " [5 8 2 6 7 4 1 3 9]\n",
            " [2 1 7 8 4 6 9 5 3]\n",
            " [8 3 5 2 9 7 4 6 1]\n",
            " [6 4 9 1 5 3 8 2 7]]\n",
            "True\n",
            "More ?j\n"
          ],
          "name": "stdout"
        }
      ]
    }
  ]
}